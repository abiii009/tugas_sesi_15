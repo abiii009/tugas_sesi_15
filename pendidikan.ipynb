{
 "cells": [
  {
   "cell_type": "code",
   "execution_count": null,
   "id": "650a61d3-2283-4d4a-972e-39ec34f4beb3",
   "metadata": {},
   "outputs": [],
   "source": [
    "import pandas as pd\n",
    "\n",
    "# Load data\n",
    "file_path = '/mnt/data/pendidikan.csv'\n",
    "df = pd.read_csv(file_path)\n",
    "\n",
    "# Tampilkan 5 data teratas\n",
    "df.head()\n"
   ]
  },
  {
   "cell_type": "code",
   "execution_count": null,
   "id": "fef1d548-c241-442c-a70c-29e019711c77",
   "metadata": {},
   "outputs": [],
   "source": [
    "# Info umum\n",
    "df.info()\n",
    "\n",
    "# Statistik deskriptif\n",
    "df.describe(include='all')\n",
    "\n",
    "# Cek kolom-kolom yang tersedia\n",
    "df.columns\n"
   ]
  },
  {
   "cell_type": "code",
   "execution_count": null,
   "id": "e11c0f1e-05d3-4ddd-9fc1-ad2bd993faaf",
   "metadata": {},
   "outputs": [],
   "source": [
    "# Nilai unik dari tiap kolom (jika relevan)\n",
    "for col in df.columns:\n",
    "    print(f\"{col}: {df[col].nunique()} nilai unik\")\n",
    "    print(df[col].value_counts().head(), \"\\n\")\n"
   ]
  },
  {
   "cell_type": "code",
   "execution_count": null,
   "id": "8ae2b7f1-fe62-4865-b2c2-c990ce060731",
   "metadata": {},
   "outputs": [],
   "source": [
    "df.groupby('Provinsi')['Jumlah Siswa'].sum().sort_values(ascending=False).head(10)\n"
   ]
  },
  {
   "cell_type": "code",
   "execution_count": null,
   "id": "2f1e5a40-291c-49c3-ae43-941a17ecab3e",
   "metadata": {},
   "outputs": [],
   "source": [
    "df['Rasio Siswa per Sekolah'] = df['Jumlah Siswa'] / df['Jumlah Sekolah']\n",
    "df[['Provinsi', 'Rasio Siswa per Sekolah']].sort_values(by='Rasio Siswa per Sekolah', ascending=False).head(10)\n"
   ]
  }
 ],
 "metadata": {
  "kernelspec": {
   "display_name": "Python [conda env:base] *",
   "language": "python",
   "name": "conda-base-py"
  },
  "language_info": {
   "codemirror_mode": {
    "name": "ipython",
    "version": 3
   },
   "file_extension": ".py",
   "mimetype": "text/x-python",
   "name": "python",
   "nbconvert_exporter": "python",
   "pygments_lexer": "ipython3",
   "version": "3.12.7"
  }
 },
 "nbformat": 4,
 "nbformat_minor": 5
}
